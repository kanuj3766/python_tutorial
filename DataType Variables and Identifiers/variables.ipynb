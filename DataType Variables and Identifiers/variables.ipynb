{
 "cells": [
  {
   "cell_type": "markdown",
   "metadata": {},
   "source": [
    "# Statement\n",
    "Command which we use to write python program.\n",
    "\n",
    "# Example:-\n",
    "print(), input(), if/else, for loop, while loop, break, continue, pass, def, try-except, with statement import.\n",
    "\n"
   ]
  },
  {
   "cell_type": "markdown",
   "metadata": {},
   "source": [
    "[] -> brackets <br>\n",
    "() -> Parentheses <br>\n",
    " \\ -> continue character <br>\n",
    "; -> Declare in same line <br>\n",
    " {} -> braces <br>"
   ]
  },
  {
   "cell_type": "markdown",
   "metadata": {},
   "source": [
    "# Indentation\n",
    "Space which we use in python while writting a code for make the code easier to read."
   ]
  },
  {
   "cell_type": "code",
   "execution_count": 32,
   "metadata": {},
   "outputs": [
    {
     "name": "stdout",
     "output_type": "stream",
     "text": [
      "Hello world\n",
      "anuj\n"
     ]
    }
   ],
   "source": [
    "print(\"Hello world\")\n",
    "print(\"anuj\")"
   ]
  },
  {
   "cell_type": "markdown",
   "metadata": {},
   "source": [
    "# Identifier:\n",
    "It is a user define name given to a variable, function, class, function etc\n"
   ]
  },
  {
   "cell_type": "markdown",
   "metadata": {},
   "source": [
    "# Data Type in Python\n",
    "1. int -> 18,85,45,1,6,0 <br>\n",
    "2. float -> 18.0,12.23,2.8 <br>\n",
    "3. string -> \"ANUJ\", \"KUMAR\",\"a\" <br>\n",
    "4. boolean -> True, False     <br>\n",
    "5. Set   -> { }  <br>\n",
    "6. Frozenset     <br>\n",
    "7. dict -> ( )   <br>\n",
    "8. List -> [ ]   <br>\n",
    "9. Bytes ->      <br>\n",
    "10. BytesArray ->        <br>\n",
    "11. None and many more    <br>"
   ]
  },
  {
   "cell_type": "markdown",
   "metadata": {},
   "source": [
    "<b>Python is dynamic types languages </b> "
   ]
  },
  {
   "cell_type": "code",
   "execution_count": 33,
   "metadata": {},
   "outputs": [
    {
     "name": "stdout",
     "output_type": "stream",
     "text": [
      "<class 'int'>\n"
     ]
    }
   ],
   "source": [
    "a = 10\n",
    "print(type(a))"
   ]
  },
  {
   "cell_type": "code",
   "execution_count": 34,
   "metadata": {},
   "outputs": [
    {
     "name": "stdout",
     "output_type": "stream",
     "text": [
      "<class 'str'>\n"
     ]
    }
   ],
   "source": [
    "a = \"anuj\"\n",
    "print(type(a))"
   ]
  },
  {
   "cell_type": "code",
   "execution_count": 35,
   "metadata": {},
   "outputs": [
    {
     "name": "stdout",
     "output_type": "stream",
     "text": [
      "<class 'bool'>\n"
     ]
    }
   ],
   "source": [
    "a = True\n",
    "print(type(a))"
   ]
  },
  {
   "cell_type": "markdown",
   "metadata": {},
   "source": [
    "# Rule's for declare Identifier(variables, class, function)\n",
    "\n",
    "1. First letter of identifier (variable) must be alphabate  or _(underscore)   eg-> a, _a <br>\n",
    "2. No space allowed       eg-> a n  <br>\n",
    "3. Expect _(underscore) No Special character allowed <br>\n",
    "4. No keyword (reserve word) are allowed  <br>"
   ]
  },
  {
   "cell_type": "markdown",
   "metadata": {},
   "source": [
    "# Write a program to print welcome in world of python"
   ]
  },
  {
   "cell_type": "code",
   "execution_count": 36,
   "metadata": {},
   "outputs": [
    {
     "name": "stdout",
     "output_type": "stream",
     "text": [
      "Welcome in world of python\n"
     ]
    }
   ],
   "source": [
    "print(\"Welcome in world of python\")"
   ]
  },
  {
   "cell_type": "markdown",
   "metadata": {},
   "source": [
    "# Write a program to addition of two number."
   ]
  },
  {
   "cell_type": "code",
   "execution_count": 37,
   "metadata": {},
   "outputs": [
    {
     "name": "stdout",
     "output_type": "stream",
     "text": [
      "Addition of two number 3\n"
     ]
    }
   ],
   "source": [
    "a = int(input(\"Enter the first number\"))\n",
    "b = int(input(\"Enter the second number\"))\n",
    "c = a + b\n",
    "print(\"Addition of two number\",c)"
   ]
  },
  {
   "cell_type": "markdown",
   "metadata": {},
   "source": [
    "# Notes\n",
    "<b> input() </b> -> input function use to take input from the user. <br>\n",
    "<b>print()</b> -> print function use to print the output.<br>\n",
    "<b> int()</b> -> int function use to convert into integer.\n"
   ]
  },
  {
   "cell_type": "markdown",
   "metadata": {},
   "source": [
    "# Print() Method\n",
    "<b>Format string<b> : It is way to write proper code. <br>\n",
    "\n",
    "<b> %i, %d, %f, %s is format string</b>"
   ]
  },
  {
   "cell_type": "code",
   "execution_count": 38,
   "metadata": {},
   "outputs": [
    {
     "name": "stdout",
     "output_type": "stream",
     "text": [
      "Addition of 1 and 2 is 3\n"
     ]
    }
   ],
   "source": [
    "a = float(input(\"Enter the 1st number:\"))\n",
    "b = float(input(\"Enter the 2nd number:\"))\n",
    "c = a +b\n",
    "print(\"Addition of %d and %d is %d\" %(a,b,c))\n"
   ]
  },
  {
   "cell_type": "code",
   "execution_count": 39,
   "metadata": {},
   "outputs": [
    {
     "name": "stdout",
     "output_type": "stream",
     "text": [
      "value is :100:20-----"
     ]
    }
   ],
   "source": [
    "a = 100\n",
    "b = 20\n",
    "print(\"value is \", a , b, sep=\":\", end=\"-----\")"
   ]
  },
  {
   "cell_type": "markdown",
   "metadata": {},
   "source": [
    "# Input and output method"
   ]
  },
  {
   "cell_type": "code",
   "execution_count": 40,
   "metadata": {},
   "outputs": [],
   "source": [
    "# print(\"Enter first no.\")\n",
    "# a = input()\n",
    "a = input(\"Enter first no.\")"
   ]
  },
  {
   "cell_type": "code",
   "execution_count": 41,
   "metadata": {},
   "outputs": [],
   "source": [
    "# a =(int)(a)\n",
    "a = int(input(\"enter fisrt no.\"))"
   ]
  },
  {
   "cell_type": "markdown",
   "metadata": {},
   "source": [
    "# How to read a data in single line."
   ]
  },
  {
   "cell_type": "markdown",
   "metadata": {},
   "source": [
    "a, b = map(int,input(\"Enter the two number\").split(',')) <br>\n",
    "c = a + b<br>\n",
    "print(\"Addition is \", c) <br>\n",
    "output - Enter the two number 2,3 <br>\n",
    "ans -> 5 <br>"
   ]
  },
  {
   "cell_type": "code",
   "execution_count": 52,
   "metadata": {},
   "outputs": [
    {
     "name": "stdout",
     "output_type": "stream",
     "text": [
      "Addition is  5\n"
     ]
    }
   ],
   "source": [
    "a, b = map(int,input(\"Enter the two number\").split(','))\n",
    "c = a + b\n",
    "print(\"Addition is \", c)\n"
   ]
  },
  {
   "cell_type": "markdown",
   "metadata": {},
   "source": []
  },
  {
   "cell_type": "code",
   "execution_count": 53,
   "metadata": {},
   "outputs": [
    {
     "name": "stdout",
     "output_type": "stream",
     "text": [
      "1\n",
      "2\n"
     ]
    }
   ],
   "source": [
    "a,b = input(\"enter the no.\").split(',')\n",
    "print(a)\n",
    "print(b)"
   ]
  },
  {
   "cell_type": "code",
   "execution_count": 54,
   "metadata": {},
   "outputs": [
    {
     "name": "stdout",
     "output_type": "stream",
     "text": [
      "12\n"
     ]
    }
   ],
   "source": [
    "c , d = input(\"enter two number:\").split()\n",
    "print(c + d)"
   ]
  },
  {
   "cell_type": "code",
   "execution_count": 56,
   "metadata": {},
   "outputs": [
    {
     "name": "stdout",
     "output_type": "stream",
     "text": [
      "5\n"
     ]
    }
   ],
   "source": [
    "c , d = map(int,input(\"enter two number:\").split())\n",
    "print(c + d)"
   ]
  },
  {
   "cell_type": "markdown",
   "metadata": {},
   "source": [
    "# Addition (format data)\n",
    "\n"
   ]
  },
  {
   "cell_type": "code",
   "execution_count": 61,
   "metadata": {},
   "outputs": [
    {
     "name": "stdout",
     "output_type": "stream",
     "text": [
      "Addition is 2 and 3 is 5 \n"
     ]
    }
   ],
   "source": [
    "a,b = map(int, input(\"enter two number:\").split())\n",
    "c=(a+b)\n",
    "print(\"Addition is %d and %d is %d \" %(a,b,c))\n",
    "\n",
    "\n"
   ]
  },
  {
   "cell_type": "markdown",
   "metadata": {},
   "source": [
    "<b> Seprate value </b>"
   ]
  },
  {
   "cell_type": "code",
   "execution_count": 62,
   "metadata": {},
   "outputs": [
    {
     "name": "stdout",
     "output_type": "stream",
     "text": [
      "The value is :89:69:65\n"
     ]
    }
   ],
   "source": [
    "# Sperate value\n",
    "a = 89\n",
    "b = 69\n",
    "c = 65\n",
    "print(\"The value is \", a, b, c, sep=\":\")"
   ]
  },
  {
   "cell_type": "code",
   "execution_count": 64,
   "metadata": {},
   "outputs": [
    {
     "name": "stdout",
     "output_type": "stream",
     "text": [
      "The value is :/45/21/32$$$"
     ]
    }
   ],
   "source": [
    "a = 45\n",
    "b = 21\n",
    "c = 32\n",
    "print(\"The value is :\", a, b, c, sep=\"/\", end= \"$$$\")"
   ]
  },
  {
   "cell_type": "code",
   "execution_count": 65,
   "metadata": {},
   "outputs": [
    {
     "name": "stdout",
     "output_type": "stream",
     "text": [
      "anujanujanujanujanuj\n"
     ]
    }
   ],
   "source": [
    "print(\"anuj\"*5)"
   ]
  },
  {
   "cell_type": "code",
   "execution_count": 66,
   "metadata": {},
   "outputs": [
    {
     "name": "stdout",
     "output_type": "stream",
     "text": [
      "Anuj\n",
      "Anuj\n",
      "Anuj\n",
      "Anuj\n",
      "Anuj\n",
      "\n"
     ]
    }
   ],
   "source": [
    "print(\"Anuj\\n\" *5)"
   ]
  },
  {
   "cell_type": "code",
   "execution_count": null,
   "metadata": {},
   "outputs": [],
   "source": [
    "Rno = 100\n",
    "name = \"Anuj \"\n",
    "age = 23\n",
    "str = \"Roll no.\""
   ]
  }
 ],
 "metadata": {
  "kernelspec": {
   "display_name": ".venv",
   "language": "python",
   "name": "python3"
  },
  "language_info": {
   "codemirror_mode": {
    "name": "ipython",
    "version": 3
   },
   "file_extension": ".py",
   "mimetype": "text/x-python",
   "name": "python",
   "nbconvert_exporter": "python",
   "pygments_lexer": "ipython3",
   "version": "3.10.13"
  }
 },
 "nbformat": 4,
 "nbformat_minor": 2
}
