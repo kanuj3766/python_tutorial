{
 "cells": [
  {
   "cell_type": "markdown",
   "metadata": {},
   "source": [
    "# What is Bitwise Operator?\n",
    "These operator perform in bits.\n",
    "\n",
    "<h2>Types of biwise operator </h2> <br>\n",
    "<li>Binary AND (&) </li>            <br>\n",
    "<li>Binary OR (/) </li>            <br>\n",
    "<li>Binary XOR (^)</li>          <br>\n",
    "<li>Binary one's complement (~)</li>     <br>\n",
    "<li>Binary left-shift (<<)</li>       <br>\n",
    "<li>Binary Right-shift (>>)</li>    <br>"
   ]
  },
  {
   "cell_type": "markdown",
   "metadata": {},
   "source": [
    "# Binary AND (&) operator \n",
    "It perform bit by bit AND  operation on the two value. Here, binary for 2 is 10, and that for 3 is 11. &-ing them result in 10, which is binary for 2. <br>\n",
    "Similarly, &-ing 011(3) <br>\n",
    "100 (4) <br>\n",
    "result in 000(0)"
   ]
  },
  {
   "cell_type": "code",
   "execution_count": 1,
   "metadata": {},
   "outputs": [
    {
     "data": {
      "text/plain": [
       "2"
      ]
     },
     "execution_count": 1,
     "metadata": {},
     "output_type": "execute_result"
    }
   ],
   "source": [
    "2 & 3"
   ]
  },
  {
   "cell_type": "code",
   "execution_count": 2,
   "metadata": {},
   "outputs": [
    {
     "data": {
      "text/plain": [
       "0"
      ]
     },
     "execution_count": 2,
     "metadata": {},
     "output_type": "execute_result"
    }
   ],
   "source": [
    "3 & 4"
   ]
  },
  {
   "cell_type": "markdown",
   "metadata": {},
   "source": [
    "<h1>Binary OR (|)</h1>\n",
    "It perform bit by bit OR on the two values. Here, OR-ing 10(2)\n",
    "and 11(3) results in 11(3)."
   ]
  },
  {
   "cell_type": "code",
   "execution_count": 3,
   "metadata": {},
   "outputs": [
    {
     "data": {
      "text/plain": [
       "3"
      ]
     },
     "execution_count": 3,
     "metadata": {},
     "output_type": "execute_result"
    }
   ],
   "source": [
    "2|3"
   ]
  },
  {
   "cell_type": "markdown",
   "metadata": {},
   "source": [
    "<h1>Binary XOR (^) Operator</h1>\n",
    "It perform bit by bit XOR(exclusive-OR) on the two values.\n",
    "Here, XOR-ing 10(2) and 11(3) results in 01(1)."
   ]
  },
  {
   "cell_type": "code",
   "execution_count": 4,
   "metadata": {},
   "outputs": [
    {
     "data": {
      "text/plain": [
       "1"
      ]
     },
     "execution_count": 4,
     "metadata": {},
     "output_type": "execute_result"
    }
   ],
   "source": [
    "2^3"
   ]
  },
  {
   "cell_type": "markdown",
   "metadata": {},
   "source": [
    "# Binary One's Complement(~)\n",
    "It return the one's complement of a number's binary. It flips the bits. Binary for 2 is 00000010. Its one's complement is 11111101.<br>\n",
    "This is binary for -3. So, this results in -3. Similarly, ~1 results in ~2."
   ]
  },
  {
   "cell_type": "code",
   "execution_count": 5,
   "metadata": {},
   "outputs": [
    {
     "data": {
      "text/plain": [
       "2"
      ]
     },
     "execution_count": 5,
     "metadata": {},
     "output_type": "execute_result"
    }
   ],
   "source": [
    "~-3"
   ]
  },
  {
   "cell_type": "markdown",
   "metadata": {},
   "source": [
    "# Binary Left-Shift (<<) operator\n",
    "It shift the value of the operand the number of places to the left that the right operand specifies. <br>\n",
    "Here, binary of 2 is 10.2 << 2 shift it two places to the left. This result in 1000, which is binary for 8."
   ]
  },
  {
   "cell_type": "code",
   "execution_count": 6,
   "metadata": {},
   "outputs": [
    {
     "data": {
      "text/plain": [
       "8"
      ]
     },
     "execution_count": 6,
     "metadata": {},
     "output_type": "execute_result"
    }
   ],
   "source": [
    "2<<2"
   ]
  },
  {
   "cell_type": "markdown",
   "metadata": {},
   "source": [
    "# Binary Right-shift (>>) Operator\n",
    "It shift the value of the left operand the number of places to the right that the right operand specifies. <br>\n",
    "Here, binary of 3 is 11.3 >> 2 shift it two places to the right. This result in 00, which is binary for 0. <br>\n",
    "Similarly, 3>>1 shift it one place to the right. This result in 01, which is binary for 1."
   ]
  },
  {
   "cell_type": "code",
   "execution_count": 7,
   "metadata": {},
   "outputs": [
    {
     "data": {
      "text/plain": [
       "0"
      ]
     },
     "execution_count": 7,
     "metadata": {},
     "output_type": "execute_result"
    }
   ],
   "source": [
    "3 >> 2"
   ]
  },
  {
   "cell_type": "code",
   "execution_count": 8,
   "metadata": {},
   "outputs": [
    {
     "data": {
      "text/plain": [
       "1"
      ]
     },
     "execution_count": 8,
     "metadata": {},
     "output_type": "execute_result"
    }
   ],
   "source": [
    "3 >> 1"
   ]
  },
  {
   "cell_type": "code",
   "execution_count": null,
   "metadata": {},
   "outputs": [],
   "source": []
  }
 ],
 "metadata": {
  "kernelspec": {
   "display_name": ".venv",
   "language": "python",
   "name": "python3"
  },
  "language_info": {
   "codemirror_mode": {
    "name": "ipython",
    "version": 3
   },
   "file_extension": ".py",
   "mimetype": "text/x-python",
   "name": "python",
   "nbconvert_exporter": "python",
   "pygments_lexer": "ipython3",
   "version": "3.10.13"
  }
 },
 "nbformat": 4,
 "nbformat_minor": 2
}
