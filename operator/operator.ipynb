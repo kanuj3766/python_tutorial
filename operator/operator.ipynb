{
 "cells": [
  {
   "cell_type": "markdown",
   "metadata": {},
   "source": [
    "# What is operator?\n",
    "Python operator is symbol that perform an operation on one or more than one operands.\n",
    "\n",
    "<h1> What is operand? </h1>\n",
    "An operand is a variable or a value on which we perform the operation."
   ]
  },
  {
   "cell_type": "markdown",
   "metadata": {},
   "source": [
    "# Types of operator\n",
    "Arithmetic operator <br>\n",
    "Relational operator <br>\n",
    "Assignment operator  <br>\n",
    "Assignment operator <br>\n",
    "Logical operator <br>\n",
    "Membership operator  <br>\n",
    "Identity operator  <br>\n",
    "Bitwise operator  <br>"
   ]
  },
  {
   "cell_type": "markdown",
   "metadata": {},
   "source": [
    "<h1>Arithmetic operator</h1>\n",
    "These python arithmetic operator include python operators for basic mathematical operations.\n",
    "<li>Addition (+)</li>  <br>\n",
    "<li>Subtraction (-)</li>  <br>\n",
    "<li>Multiplication(*)</li>  <br>\n",
    "<li>Division (/)</li>       <br>\n",
    "<li>Exponentiation (**)</li>  <br>\n",
    "<li>Floor Division (//)</li>  <br>\n",
    "<li>Modulas (%)</li>          <br>\n"
   ]
  },
  {
   "cell_type": "code",
   "execution_count": 4,
   "metadata": {},
   "outputs": [
    {
     "name": "stdout",
     "output_type": "stream",
     "text": [
      "14\n"
     ]
    }
   ],
   "source": [
    "#Addition\n",
    "a = 6\n",
    "b = 8\n",
    "c = a + b\n",
    "print(c)"
   ]
  },
  {
   "cell_type": "code",
   "execution_count": 7,
   "metadata": {},
   "outputs": [
    {
     "name": "stdout",
     "output_type": "stream",
     "text": [
      "9\n",
      "6\n",
      "3\n"
     ]
    }
   ],
   "source": [
    "#subtraction\n",
    "a = int(input(\"ENTER THE 1ST NUMBER\"))\n",
    "print(a)\n",
    "b = int(input(\"ENTER THE 2ND NUMBER\"))\n",
    "print(b)\n",
    "c = a - b \n",
    "print(c)"
   ]
  },
  {
   "cell_type": "code",
   "execution_count": 8,
   "metadata": {},
   "outputs": [
    {
     "name": "stdout",
     "output_type": "stream",
     "text": [
      "6\n",
      "6\n",
      "36\n"
     ]
    }
   ],
   "source": [
    "#Multipication\n",
    "a = int(input(\"Enter the 1st number\"))\n",
    "print(a)\n",
    "b = int(input(\"Enter the 2nd number\"))\n",
    "print(b)\n",
    "c = a*b\n",
    "print(c)"
   ]
  },
  {
   "cell_type": "code",
   "execution_count": 9,
   "metadata": {},
   "outputs": [
    {
     "name": "stdout",
     "output_type": "stream",
     "text": [
      "8\n",
      "3\n",
      "2.6666666666666665\n"
     ]
    }
   ],
   "source": [
    "#Division\n",
    "a = int(input(\"Enter the 1st number\"))\n",
    "print(a)\n",
    "b = int (input(\"Enter the 2nd number\"))\n",
    "print(b)\n",
    "c = a/b\n",
    "print(c)"
   ]
  },
  {
   "cell_type": "code",
   "execution_count": 11,
   "metadata": {},
   "outputs": [
    {
     "name": "stdout",
     "output_type": "stream",
     "text": [
      "Enter the 1st number 8\n",
      "enter 2nd number 3\n",
      "2\n"
     ]
    }
   ],
   "source": [
    "#Modulas \n",
    "a = int(input(\"Enter the 1st number\"))\n",
    "print(\"Enter the 1st number\",a)\n",
    "b = int(input(\"Enter the 2nd number\"))\n",
    "print(\"enter 2nd number\",b)\n",
    "c = a%b\n",
    "print(c)"
   ]
  },
  {
   "cell_type": "code",
   "execution_count": 13,
   "metadata": {},
   "outputs": [
    {
     "name": "stdout",
     "output_type": "stream",
     "text": [
      "Enter the 1st number 3\n",
      "enter 2nd number 3\n",
      "27\n"
     ]
    }
   ],
   "source": [
    "#Exponentiation\n",
    "a = int(input(\"Enter the 1st number\"))\n",
    "print(\"Enter the 1st number\",a)\n",
    "b = int(input(\"Enter the 2nd number\"))\n",
    "print(\"enter 2nd number\",b)\n",
    "c = a**b\n",
    "print(c)\n"
   ]
  },
  {
   "cell_type": "code",
   "execution_count": 15,
   "metadata": {},
   "outputs": [
    {
     "name": "stdout",
     "output_type": "stream",
     "text": [
      "Enter the 1st number 415\n",
      "enter 2nd number 45\n",
      "9\n"
     ]
    }
   ],
   "source": [
    "#Floor division\n",
    "a = int(input(\"Enter the 1st number\"))\n",
    "print(\"Enter the 1st number\",a)\n",
    "b = int(input(\"Enter the 2nd number\"))\n",
    "print(\"enter 2nd number\",b)\n",
    "c = a//b\n",
    "print(c)"
   ]
  },
  {
   "cell_type": "code",
   "execution_count": null,
   "metadata": {},
   "outputs": [],
   "source": []
  }
 ],
 "metadata": {
  "kernelspec": {
   "display_name": ".venv",
   "language": "python",
   "name": "python3"
  },
  "language_info": {
   "codemirror_mode": {
    "name": "ipython",
    "version": 3
   },
   "file_extension": ".py",
   "mimetype": "text/x-python",
   "name": "python",
   "nbconvert_exporter": "python",
   "pygments_lexer": "ipython3",
   "version": "3.10.13"
  }
 },
 "nbformat": 4,
 "nbformat_minor": 2
}
